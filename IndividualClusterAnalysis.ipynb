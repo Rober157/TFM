{
  "nbformat": 4,
  "nbformat_minor": 0,
  "metadata": {
    "colab": {
      "name": "TFMcluster.ipynb",
      "provenance": [],
      "collapsed_sections": [],
      "authorship_tag": "ABX9TyOWDaLwbSOoTvwkA5m5txFS",
      "include_colab_link": true
    },
    "kernelspec": {
      "name": "python3",
      "display_name": "Python 3"
    }
  },
  "cells": [
    {
      "cell_type": "markdown",
      "metadata": {
        "id": "view-in-github",
        "colab_type": "text"
      },
      "source": [
        "<a href=\"https://colab.research.google.com/github/Rober157/TFM2/blob/master/IndividualClusterAnalysis.ipynb\" target=\"_parent\"><img src=\"https://colab.research.google.com/assets/colab-badge.svg\" alt=\"Open In Colab\"/></a>"
      ]
    },
    {
      "cell_type": "code",
      "metadata": {
        "id": "qoX8UYGaCcx0",
        "colab_type": "code",
        "colab": {}
      },
      "source": [
        "from google.colab import drive\n",
        "drive.mount('/content/drive')"
      ],
      "execution_count": null,
      "outputs": []
    },
    {
      "cell_type": "code",
      "metadata": {
        "id": "Dp95AMqPCe3h",
        "colab_type": "code",
        "colab": {}
      },
      "source": [
        "%load_ext rpy2.ipython"
      ],
      "execution_count": null,
      "outputs": []
    },
    {
      "cell_type": "code",
      "metadata": {
        "id": "m2jk6jbCCgdh",
        "colab_type": "code",
        "colab": {}
      },
      "source": [
        "%%R\n",
        "listOfPackages <- c('data.table','bit64','igraph','dplyr')\n",
        "for (i in listOfPackages){\n",
        "     if(! i %in% installed.packages()){\n",
        "         install.packages(i, dependencies = TRUE)\n",
        "     }\n",
        "     require(i)\n",
        "}"
      ],
      "execution_count": null,
      "outputs": []
    },
    {
      "cell_type": "code",
      "metadata": {
        "id": "sCt7d0hUCil2",
        "colab_type": "code",
        "colab": {}
      },
      "source": [
        "%%R\n",
        "\n",
        "library(dplyr)\n",
        "library(data.table)\n",
        "library(bit64)\n",
        "library(igraph)"
      ],
      "execution_count": null,
      "outputs": []
    },
    {
      "cell_type": "code",
      "metadata": {
        "id": "dPmVx-sqEDI_",
        "colab_type": "code",
        "colab": {}
      },
      "source": [
        "%%R\n",
        "\n",
        "url = ('./drive/My Drive/TFM/Cluster8.csv')\n",
        "data_cluster = fread(url)"
      ],
      "execution_count": null,
      "outputs": []
    },
    {
      "cell_type": "code",
      "metadata": {
        "id": "UEXs19j6EzPo",
        "colab_type": "code",
        "colab": {}
      },
      "source": [
        "%%R\n",
        "\n",
        "network = graph.data.frame(data_cluster) #Creamos la red"
      ],
      "execution_count": null,
      "outputs": []
    },
    {
      "cell_type": "code",
      "metadata": {
        "id": "mejyTzb4IU_K",
        "colab_type": "code",
        "colab": {}
      },
      "source": [
        "%%R\n",
        "\n",
        "gsize(network) #the number of edges"
      ],
      "execution_count": null,
      "outputs": []
    },
    {
      "cell_type": "code",
      "metadata": {
        "id": "lgtnwFtAJDl4",
        "colab_type": "code",
        "colab": {}
      },
      "source": [
        "%%R\n",
        "\n",
        "gorder(network) #Order (number of vertices) of a graph"
      ],
      "execution_count": null,
      "outputs": []
    },
    {
      "cell_type": "code",
      "metadata": {
        "id": "0Aa0MdbeFedb",
        "colab_type": "code",
        "colab": {}
      },
      "source": [
        "%%R\n",
        "\n",
        "## Page rank\n",
        "\n",
        "#With Directions\n",
        "nw.page_rank <- sort.int(page_rank(network)$vector,decreasing=TRUE,index.return=TRUE)"
      ],
      "execution_count": null,
      "outputs": []
    },
    {
      "cell_type": "code",
      "metadata": {
        "id": "RufAJrMbFt-Z",
        "colab_type": "code",
        "colab": {}
      },
      "source": [
        "%%R\n",
        "\n",
        "nw.page_rank$x[1:10]"
      ],
      "execution_count": null,
      "outputs": []
    },
    {
      "cell_type": "code",
      "metadata": {
        "id": "So4HpCIHF0UO",
        "colab_type": "code",
        "colab": {}
      },
      "source": [
        "%%R\n",
        "\n",
        "## Vertex degree\n",
        "\n",
        "nw.vertices = sort.int(igraph::degree(network),decreasing=TRUE,index.return=TRUE)"
      ],
      "execution_count": null,
      "outputs": []
    },
    {
      "cell_type": "code",
      "metadata": {
        "id": "uwrdXGuWF3nd",
        "colab_type": "code",
        "colab": {}
      },
      "source": [
        "%%R\n",
        "\n",
        "nw.vertices$x[1:10]"
      ],
      "execution_count": null,
      "outputs": []
    },
    {
      "cell_type": "code",
      "metadata": {
        "id": "UJIpzKT-F3zw",
        "colab_type": "code",
        "colab": {}
      },
      "source": [
        "%%R\n",
        "\n",
        "## In degree\n",
        "\n",
        "nw.vertices.in <- sort.int(igraph::degree(network,mode=\"in\"),decreasing=TRUE,index.return=TRUE)"
      ],
      "execution_count": null,
      "outputs": []
    },
    {
      "cell_type": "code",
      "metadata": {
        "id": "TsWAh2wfF4Of",
        "colab_type": "code",
        "colab": {}
      },
      "source": [
        "%%R\n",
        "\n",
        "nw.vertices.in$x[1:10]"
      ],
      "execution_count": null,
      "outputs": []
    },
    {
      "cell_type": "code",
      "metadata": {
        "id": "CRuQfQSjF4Tm",
        "colab_type": "code",
        "colab": {}
      },
      "source": [
        "%%R\n",
        "\n",
        "## Out degree\n",
        "\n",
        "nw.vertices.out <- sort.int(igraph::degree(network,mode=\"out\"),decreasing=TRUE,index.return=TRUE)"
      ],
      "execution_count": null,
      "outputs": []
    },
    {
      "cell_type": "code",
      "metadata": {
        "id": "wAA3qQuQF4W9",
        "colab_type": "code",
        "colab": {}
      },
      "source": [
        "%%R\n",
        "\n",
        "nw.vertices.out$x[1:10]"
      ],
      "execution_count": null,
      "outputs": []
    },
    {
      "cell_type": "code",
      "metadata": {
        "id": "7KhPp1AkF4aA",
        "colab_type": "code",
        "colab": {}
      },
      "source": [
        "%%R\n",
        "\n",
        "##### Closeness Centrality\n",
        "\n",
        "## All\n",
        "\n",
        "nw.closeness <- sort.int(igraph::closeness(network,normalized=TRUE,mode=\"all\"),decreasing=TRUE,index.return=TRUE)"
      ],
      "execution_count": null,
      "outputs": []
    },
    {
      "cell_type": "code",
      "metadata": {
        "id": "R1rFpB_bF4cy",
        "colab_type": "code",
        "colab": {}
      },
      "source": [
        "%%R\n",
        "\n",
        "nw.closeness$x[1:10]"
      ],
      "execution_count": null,
      "outputs": []
    },
    {
      "cell_type": "code",
      "metadata": {
        "id": "VXAoog6RGKE1",
        "colab_type": "code",
        "colab": {}
      },
      "source": [
        "%%R\n",
        "\n",
        "## Out\n",
        "\n",
        "nw.closeness.out <- sort.int(igraph::closeness(network,normalized=TRUE,mode=\"out\"),decreasing=TRUE,index.return=TRUE)"
      ],
      "execution_count": null,
      "outputs": []
    },
    {
      "cell_type": "code",
      "metadata": {
        "id": "l4AEjPHJGKIq",
        "colab_type": "code",
        "colab": {}
      },
      "source": [
        "%%R\n",
        "\n",
        "nw.closeness.out$x[1:10]"
      ],
      "execution_count": null,
      "outputs": []
    },
    {
      "cell_type": "code",
      "metadata": {
        "id": "b-jjTEamGKL9",
        "colab_type": "code",
        "colab": {}
      },
      "source": [
        "%%R\n",
        "\n",
        "## Betweeness\n",
        "\n",
        "# Dirigida\n",
        "\n",
        "nw.betweenness <- sort.int(igraph::betweenness(network,normalized=TRUE),decreasing=TRUE,index.return=TRUE)"
      ],
      "execution_count": null,
      "outputs": []
    },
    {
      "cell_type": "code",
      "metadata": {
        "id": "GeoaY-dNF4kj",
        "colab_type": "code",
        "colab": {}
      },
      "source": [
        "%%R\n",
        "\n",
        "nw.betweenness$x[1:10]"
      ],
      "execution_count": null,
      "outputs": []
    },
    {
      "cell_type": "code",
      "metadata": {
        "id": "YGTFCDomF4mu",
        "colab_type": "code",
        "colab": {}
      },
      "source": [
        "%%R\n",
        "###### Eigen centraltity\n",
        "\n",
        "##Directed\n",
        "nw.eigen_centrality <- sort.int(igraph::eigen_centrality(network,scale=FALSE,directed=TRUE)$vector,decreasing=TRUE,index.return=TRUE)"
      ],
      "execution_count": null,
      "outputs": []
    },
    {
      "cell_type": "code",
      "metadata": {
        "id": "88STKkb7Ge9E",
        "colab_type": "code",
        "colab": {}
      },
      "source": [
        "%%R\n",
        "\n",
        "nw.eigen_centrality$x[1:10]"
      ],
      "execution_count": null,
      "outputs": []
    },
    {
      "cell_type": "code",
      "metadata": {
        "id": "50cKXWhZGfCC",
        "colab_type": "code",
        "colab": {}
      },
      "source": [
        "%%R\n",
        "\n",
        "#Otras medidas\n",
        "\n",
        "diameter(network, directed = TRUE)"
      ],
      "execution_count": null,
      "outputs": []
    },
    {
      "cell_type": "code",
      "metadata": {
        "id": "Kpw-sSh5GfGT",
        "colab_type": "code",
        "colab": {}
      },
      "source": [
        "%%R\n",
        "\n",
        "farthest_vertices(network,directed=TRUE)"
      ],
      "execution_count": null,
      "outputs": []
    },
    {
      "cell_type": "code",
      "metadata": {
        "id": "D2sZluNqGfbn",
        "colab_type": "code",
        "colab": {}
      },
      "source": [
        "%%R\n",
        "\n",
        "is_connected(network,mode=\"weak\")"
      ],
      "execution_count": null,
      "outputs": []
    },
    {
      "cell_type": "code",
      "metadata": {
        "id": "cHIozTxgHK2t",
        "colab_type": "code",
        "colab": {}
      },
      "source": [
        "%%R\n",
        "\n",
        "#Conectividad de edges n*(n-1)\n",
        "n = gorder(network) \n",
        "gsize(network)/(n*(n-1))"
      ],
      "execution_count": null,
      "outputs": []
    },
    {
      "cell_type": "code",
      "metadata": {
        "id": "65PdKScIHMGy",
        "colab_type": "code",
        "colab": {}
      },
      "source": [
        "%%R\n",
        "\n",
        "#Conectividad de nodos\n",
        "\n",
        "edge_density(network, loops = FALSE)"
      ],
      "execution_count": null,
      "outputs": []
    }
  ]
}