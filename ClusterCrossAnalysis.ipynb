{
  "nbformat": 4,
  "nbformat_minor": 0,
  "metadata": {
    "colab": {
      "name": "ClusterCross.ipynb",
      "provenance": [],
      "collapsed_sections": [],
      "authorship_tag": "ABX9TyP3iaTpbOC/RbQS6r7utp0w",
      "include_colab_link": true
    },
    "kernelspec": {
      "name": "python3",
      "display_name": "Python 3"
    }
  },
  "cells": [
    {
      "cell_type": "markdown",
      "metadata": {
        "id": "view-in-github",
        "colab_type": "text"
      },
      "source": [
        "<a href=\"https://colab.research.google.com/github/Rober157/TFM2/blob/master/ClusterCrossAnalysis.ipynb\" target=\"_parent\"><img src=\"https://colab.research.google.com/assets/colab-badge.svg\" alt=\"Open In Colab\"/></a>"
      ]
    },
    {
      "cell_type": "code",
      "metadata": {
        "id": "JgEg11_mhy44",
        "colab_type": "code",
        "colab": {}
      },
      "source": [
        "from google.colab import drive\n",
        "drive.mount('/content/drive')"
      ],
      "execution_count": null,
      "outputs": []
    },
    {
      "cell_type": "code",
      "metadata": {
        "id": "tGDWWAPy45St",
        "colab_type": "code",
        "colab": {}
      },
      "source": [
        "%load_ext rpy2.ipython"
      ],
      "execution_count": null,
      "outputs": []
    },
    {
      "cell_type": "code",
      "metadata": {
        "id": "hGkb_dLgh0R6",
        "colab_type": "code",
        "colab": {}
      },
      "source": [
        "%%R\n",
        "listOfPackages <- c('data.table','bit64','igraph','dplyr')\n",
        "for (i in listOfPackages){\n",
        "     if(! i %in% installed.packages()){\n",
        "         install.packages(i, dependencies = TRUE)\n",
        "     }\n",
        "     require(i)\n",
        "}"
      ],
      "execution_count": null,
      "outputs": []
    },
    {
      "cell_type": "code",
      "metadata": {
        "id": "jwHNlDBwh0X0",
        "colab_type": "code",
        "colab": {}
      },
      "source": [
        "%%R\n",
        "\n",
        "library(dplyr)\n",
        "library(data.table)\n",
        "library(bit64)\n",
        "library(igraph)"
      ],
      "execution_count": null,
      "outputs": []
    },
    {
      "cell_type": "code",
      "metadata": {
        "id": "DrOrFBKCh0dO",
        "colab_type": "code",
        "colab": {}
      },
      "source": [
        "%%R\n",
        "\n",
        "cluster_ratios = data.frame()\n",
        "\n",
        "for(i in 0:9){\n",
        "    ratios = c()\n",
        "    for(j in 0:9){\n",
        "    if((i == 5) | (j == 5)){\n",
        "        next}\n",
        "    if(j <= i){\n",
        "      ratios = c(ratios,0)\n",
        "      next}\n",
        "        name_cross = paste0(\"./drive/My Drive/TFM/Cluster\",i,j,\".csv\")\n",
        "        name_1 = paste0(\"./drive/My Drive/TFM/Cluster\",i,\".csv\")\n",
        "        name_2 = paste0(\"./drive/My Drive/TFM/Cluster\",j,\".csv\")\n",
        "        data_cluster_cross = fread((name_cross))\n",
        "        data_cluster_1 = fread((name_1))\n",
        "        data_cluster_2 = fread((name_2))\n",
        "        network_cross = graph.data.frame(data_cluster_cross)\n",
        "        network_1 = graph.data.frame(data_cluster_1)\n",
        "        network_2 = graph.data.frame(data_cluster_2)\n",
        "        edges = gsize(network_cross)\n",
        "        possible_edges = gorder(network_1)*gorder(network_2)*2\n",
        "        ratio = edges/possible_edges\n",
        "        ratios = c(ratios,ratio)\n",
        "} \n",
        "cluster_ratios = rbind(cluster_ratios,ratios)\n",
        "}\n",
        "\n",
        "x = c(\"Cluster 0\", \"Cluster 1\", \"Cluster 2\",\"Cluster 3\",\"Cluster 4\",\"Cluster 6\",\"Cluster 7\",\"Cluster 8\",\"Cluster 9\")\n",
        "colnames(cluster_ratios) = x\n",
        "rownames(cluster_ratios) = x"
      ],
      "execution_count": null,
      "outputs": []
    },
    {
      "cell_type": "code",
      "metadata": {
        "id": "h9e2QdFSh0ib",
        "colab_type": "code",
        "colab": {}
      },
      "source": [
        "%%R\n",
        "\n",
        "cluster_ratios[,-1]"
      ],
      "execution_count": null,
      "outputs": []
    },
    {
      "cell_type": "code",
      "metadata": {
        "id": "c6s6xlMjh0ne",
        "colab_type": "code",
        "colab": {}
      },
      "source": [
        "%%R\n",
        "\n",
        "edges = fread((\"./drive/My Drive/TFM/edges_final.csv\"))\n",
        "modus = fread((\"./drive/My Drive/TFM/modus.csv\"))"
      ],
      "execution_count": null,
      "outputs": []
    },
    {
      "cell_type": "code",
      "metadata": {
        "id": "XxKCnDbGh0se",
        "colab_type": "code",
        "colab": {}
      },
      "source": [
        "%%R\n",
        "\n",
        "ratios = matrix(0, nrow = 11, ncol = 11)\n",
        "\n",
        "for(i in 0:9){\n",
        "    for(j in 0:9){\n",
        "    if((i == 5) | (j == 5)){\n",
        "        next}\n",
        "    if(j == i){\n",
        "      next}\n",
        "ids_1 = modus[modularity_class == i,Id]\n",
        "ids_2 = modus[modularity_class == j,Id]\n",
        "indices_from = edges[,from] %in% ids_1\n",
        "indices_to = edges[,to] %in% ids_2\n",
        "comb = indices_from & indices_to\n",
        "new_edges = edges[comb,]\n",
        "edges_count = nrow(new_edges)\n",
        "name_1 = paste0(\"./drive/My Drive/TFM/Cluster\",i,\".csv\")\n",
        "name_2 = paste0(\"./drive/My Drive/TFM/Cluster\",j,\".csv\")\n",
        "data_cluster_1 = fread((name_1))\n",
        "data_cluster_2 = fread((name_2))\n",
        "network_1 = graph.data.frame(data_cluster_1)\n",
        "network_2 = graph.data.frame(data_cluster_2)\n",
        "possible_edges = gorder(network_1)*gorder(network_2)\n",
        "ratio = edges_count/possible_edges\n",
        "ratios[(i+1),(j+1)] = ratio\n",
        "} \n",
        "}"
      ],
      "execution_count": null,
      "outputs": []
    },
    {
      "cell_type": "code",
      "metadata": {
        "id": "7Vvt2srYh0xd",
        "colab_type": "code",
        "colab": {}
      },
      "source": [
        "%%R\n",
        "write.csv(ratios,'ratios.csv',row.names = FALSE,col.names = FALSE)\n"
      ],
      "execution_count": null,
      "outputs": []
    }
  ]
}