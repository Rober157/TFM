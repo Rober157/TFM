{
  "nbformat": 4,
  "nbformat_minor": 0,
  "metadata": {
    "colab": {
      "name": "TFM1.ipynb",
      "provenance": [],
      "collapsed_sections": [],
      "toc_visible": true,
      "machine_shape": "hm",
      "include_colab_link": true
    },
    "kernelspec": {
      "name": "python3",
      "display_name": "Python 3"
    }
  },
  "cells": [
    {
      "cell_type": "markdown",
      "metadata": {
        "id": "view-in-github",
        "colab_type": "text"
      },
      "source": [
        "<a href=\"https://colab.research.google.com/github/Rober157/TFM2/blob/master/WholeNetworkAnalysis.ipynb\" target=\"_parent\"><img src=\"https://colab.research.google.com/assets/colab-badge.svg\" alt=\"Open In Colab\"/></a>"
      ]
    },
    {
      "cell_type": "code",
      "metadata": {
        "id": "AiTNSdlE42R3",
        "colab_type": "code",
        "colab": {}
      },
      "source": [
        "from google.colab import drive\n",
        "drive.mount('/content/drive')"
      ],
      "execution_count": null,
      "outputs": []
    },
    {
      "cell_type": "code",
      "metadata": {
        "id": "E9oUvY3r44NZ",
        "colab_type": "code",
        "colab": {}
      },
      "source": [
        "%load_ext rpy2.ipython"
      ],
      "execution_count": null,
      "outputs": []
    },
    {
      "cell_type": "code",
      "metadata": {
        "id": "SXi4SIS79K1g",
        "colab_type": "code",
        "colab": {}
      },
      "source": [
        "%%R\n",
        "listOfPackages <- c('data.table','bit64','igraph','dplyr')\n",
        "for (i in listOfPackages){\n",
        "     if(! i %in% installed.packages()){\n",
        "         install.packages(i, dependencies = TRUE)\n",
        "     }\n",
        "     require(i)\n",
        "}"
      ],
      "execution_count": null,
      "outputs": []
    },
    {
      "cell_type": "code",
      "metadata": {
        "id": "LyZWuDaC5Z0Z",
        "colab_type": "code",
        "colab": {}
      },
      "source": [
        "%%R\n",
        "\n",
        "library(dplyr)\n",
        "library(data.table)\n",
        "library(bit64)\n",
        "library(igraph)"
      ],
      "execution_count": null,
      "outputs": []
    },
    {
      "cell_type": "code",
      "metadata": {
        "id": "7morDXTH49wO",
        "colab_type": "code",
        "colab": {}
      },
      "source": [
        "%%R\n",
        "url_1 = ('./drive/My Drive/TFM/pruebafinal.csv')\n",
        "url_2 = ('./drive/My Drive/TFM/naukas.edges.csv')\n",
        "\n",
        "data_twitter = fread(url_1)\n",
        "data_edges = fread(url_2)"
      ],
      "execution_count": null,
      "outputs": []
    },
    {
      "cell_type": "code",
      "metadata": {
        "id": "RbckaGb872y4",
        "colab_type": "code",
        "colab": {}
      },
      "source": [
        "%%R\n",
        "# Comprobamos rows\n",
        "nrow(data_twitter)"
      ],
      "execution_count": null,
      "outputs": []
    },
    {
      "cell_type": "code",
      "metadata": {
        "id": "TpSxvDu95vog",
        "colab_type": "code",
        "colab": {}
      },
      "source": [
        "%%R\n",
        "# Comprobamos rows\n",
        "nrow(data_edges)"
      ],
      "execution_count": null,
      "outputs": []
    },
    {
      "cell_type": "code",
      "metadata": {
        "id": "1bcab1OD_9tp",
        "colab_type": "code",
        "colab": {}
      },
      "source": [
        "%%R\n",
        "\n",
        "indices_from = data_edges[,from] %in% data_twitter[,V1]\n",
        "indices_to = data_edges[,to] %in% data_twitter[,V1] \n",
        "comb = indices_from & indices_to\n",
        "length(comb)"
      ],
      "execution_count": null,
      "outputs": []
    },
    {
      "cell_type": "code",
      "metadata": {
        "id": "OxjsWDBeFfIh",
        "colab_type": "code",
        "colab": {}
      },
      "source": [
        "%%R\n",
        "\n",
        "data_edges = data_edges[comb,]\n",
        "nrow(data_edges)\n"
      ],
      "execution_count": null,
      "outputs": []
    },
    {
      "cell_type": "code",
      "metadata": {
        "id": "UmkHIQJTHpq4",
        "colab_type": "code",
        "colab": {}
      },
      "source": [
        "%%R\n",
        "\n",
        "ids = unique(c(data_edges[,to],data_edges[,from])) #Vector de nombres\n",
        "length(ids)"
      ],
      "execution_count": null,
      "outputs": []
    },
    {
      "cell_type": "code",
      "metadata": {
        "id": "W-BNlT0lua6o",
        "colab_type": "code",
        "colab": {}
      },
      "source": [
        "%%R\n",
        "#Ids malas post-privadas\n",
        "\n",
        "ids_1 = data_twitter[V16==1,V1]\n",
        "\n",
        "check =  ids_1 %in% data_edges[,to]\n",
        "\n",
        "ids_malas = ids_1[!check]\n",
        "\n",
        "final =  data_edges[,from] %in% ids_malas \n",
        "\n",
        "data_edges = data_edges[!final,]\n",
        "\n",
        "nrow(data_edges)"
      ],
      "execution_count": null,
      "outputs": []
    },
    {
      "cell_type": "code",
      "metadata": {
        "id": "rUaEUP7jxm33",
        "colab_type": "code",
        "colab": {}
      },
      "source": [
        "%%R\n",
        "\n",
        "data_edges = data_edges[ , c(\"to\", \"from\")]\n",
        "\n",
        "colnames(data_edges) = c('from','to')\n",
        "\n",
        "head(data_edges)"
      ],
      "execution_count": null,
      "outputs": []
    },
    {
      "cell_type": "code",
      "metadata": {
        "id": "alYaFKSczmRY",
        "colab_type": "code",
        "colab": {}
      },
      "source": [
        "%%R\n",
        "\n",
        "#write.csv(data_edges,'data_edges.csv',row.names = FALSE,col.names = FALSE)\n",
        "network = graph.data.frame(data_edges) #Creamos la red\n"
      ],
      "execution_count": null,
      "outputs": []
    },
    {
      "cell_type": "code",
      "metadata": {
        "id": "dmFg5Xh6zwIH",
        "colab_type": "code",
        "colab": {}
      },
      "source": [
        "%%R\n",
        "## Page rank\n",
        "\n",
        "#With Directions\n",
        "nw.union.page_rank <- sort.int(page_rank(network)$vector,decreasing=TRUE,index.return=TRUE)"
      ],
      "execution_count": null,
      "outputs": []
    },
    {
      "cell_type": "code",
      "metadata": {
        "id": "93HtesNOEaDp",
        "colab_type": "code",
        "colab": {}
      },
      "source": [
        "%%R\n",
        "\n",
        "nw.union.page_rank$x[1:10]"
      ],
      "execution_count": null,
      "outputs": []
    },
    {
      "cell_type": "code",
      "metadata": {
        "id": "L6eUsNVyW_JW",
        "colab_type": "code",
        "colab": {}
      },
      "source": [
        "%%R\n",
        "\n",
        "## Vertex degree\n",
        "\n",
        "nw.union.vertices = sort.int(igraph::degree(network),decreasing=TRUE,index.return=TRUE)\n"
      ],
      "execution_count": null,
      "outputs": []
    },
    {
      "cell_type": "code",
      "metadata": {
        "id": "3TPHuq6WEvUA",
        "colab_type": "code",
        "colab": {}
      },
      "source": [
        "%%R\n",
        "\n",
        "nw.union.vertices$x[1:10]"
      ],
      "execution_count": null,
      "outputs": []
    },
    {
      "cell_type": "code",
      "metadata": {
        "id": "HpeZpjD0YP9d",
        "colab_type": "code",
        "colab": {}
      },
      "source": [
        "%%R\n",
        "\n",
        "## In degree\n",
        "\n",
        "nw.union.vertices.in <- sort.int(igraph::degree(network,mode=\"in\"),decreasing=TRUE,index.return=TRUE)"
      ],
      "execution_count": null,
      "outputs": []
    },
    {
      "cell_type": "code",
      "metadata": {
        "id": "7p7AD3GDEk55",
        "colab_type": "code",
        "colab": {}
      },
      "source": [
        "%%R\n",
        "\n",
        "nw.union.vertices.in$x[1:10]"
      ],
      "execution_count": null,
      "outputs": []
    },
    {
      "cell_type": "code",
      "metadata": {
        "id": "JY3uOg8PYdum",
        "colab_type": "code",
        "colab": {}
      },
      "source": [
        "%%R\n",
        "\n",
        "## Out degree\n",
        "\n",
        "nw.union.vertices.out <- sort.int(igraph::degree(network,mode=\"out\"),decreasing=TRUE,index.return=TRUE)"
      ],
      "execution_count": null,
      "outputs": []
    },
    {
      "cell_type": "code",
      "metadata": {
        "id": "UuRtM7F1DPsY",
        "colab_type": "code",
        "colab": {}
      },
      "source": [
        "%%R\n",
        "\n",
        "nw.union.vertices.out$x[1:10]"
      ],
      "execution_count": null,
      "outputs": []
    },
    {
      "cell_type": "code",
      "metadata": {
        "id": "BINMiwdCRInW",
        "colab_type": "code",
        "colab": {}
      },
      "source": [
        "%%R\n",
        "\n",
        "##### Closeness Centrality\n",
        "\n",
        "## All\n",
        "\n",
        "nw.union.closeness <- sort.int(igraph::closeness(network,normalized=TRUE,mode=\"all\"),decreasing=TRUE,index.return=TRUE)"
      ],
      "execution_count": null,
      "outputs": []
    },
    {
      "cell_type": "code",
      "metadata": {
        "id": "l0l1bLvYDToX",
        "colab_type": "code",
        "colab": {}
      },
      "source": [
        "%%R\n",
        "\n",
        "nw.union.closeness$x[1:10]"
      ],
      "execution_count": null,
      "outputs": []
    },
    {
      "cell_type": "code",
      "metadata": {
        "id": "RKdnkYsrZB5V",
        "colab_type": "code",
        "colab": {}
      },
      "source": [
        "%%R\n",
        "\n",
        "## In \n",
        "\n",
        "nw.union.closeness.in <- sort.int(igraph::closeness(network,normalized=TRUE,mode=\"in\"),decreasing=TRUE,index.return=TRUE)"
      ],
      "execution_count": null,
      "outputs": []
    },
    {
      "cell_type": "code",
      "metadata": {
        "id": "s6-wr7LRDaAx",
        "colab_type": "code",
        "colab": {}
      },
      "source": [
        "%%R\n",
        "\n",
        "nw.union.closeness.in$x[1:10]"
      ],
      "execution_count": null,
      "outputs": []
    },
    {
      "cell_type": "code",
      "metadata": {
        "id": "qbOIxIpbZRpA",
        "colab_type": "code",
        "colab": {}
      },
      "source": [
        "%%R\n",
        "\n",
        "## Out\n",
        "\n",
        "nw.union.closeness.out <- sort.int(igraph::closeness(network,normalized=TRUE,mode=\"out\"),decreasing=TRUE,index.return=TRUE)"
      ],
      "execution_count": null,
      "outputs": []
    },
    {
      "cell_type": "code",
      "metadata": {
        "id": "mfJmjbzIDjQ_",
        "colab_type": "code",
        "colab": {}
      },
      "source": [
        "%%R\n",
        "\n",
        "nw.union.closeness.out$x[1:10]"
      ],
      "execution_count": null,
      "outputs": []
    },
    {
      "cell_type": "code",
      "metadata": {
        "id": "7ertjrAXDluB",
        "colab_type": "code",
        "colab": {}
      },
      "source": [
        "%%R\n",
        "\n",
        "## Betweeness\n",
        "\n",
        "# Dirigida\n",
        "\n",
        "nw.betweeness <- sort.int(igraph::estimate_betweenness(network, directed = TRUE, cutoff = 7),decreasing=TRUE,index.return=TRUE)\n"
      ],
      "execution_count": null,
      "outputs": []
    },
    {
      "cell_type": "code",
      "metadata": {
        "id": "iTK3EFfEdER-",
        "colab_type": "code",
        "colab": {}
      },
      "source": [
        "%%R\n",
        "\n",
        "nw.betweeness$x[1:10]"
      ],
      "execution_count": null,
      "outputs": []
    },
    {
      "cell_type": "code",
      "metadata": {
        "id": "StTYXY3_CQoa",
        "colab_type": "code",
        "colab": {}
      },
      "source": [
        "%%R\n",
        "\n",
        "## With directions\n",
        "\n",
        "#nw.union.betweenness <- sort.int(igraph::betweenness(network,normalized=TRUE),decreasing=TRUE,index.return=TRUE)\n"
      ],
      "execution_count": null,
      "outputs": []
    },
    {
      "cell_type": "code",
      "metadata": {
        "id": "vsdM0iXwDyrp",
        "colab_type": "code",
        "colab": {}
      },
      "source": [
        "%%R\n",
        "\n",
        "#nw.union.betweenness$x[1:10] #NAs"
      ],
      "execution_count": null,
      "outputs": []
    },
    {
      "cell_type": "code",
      "metadata": {
        "id": "IE17CQahDvxM",
        "colab_type": "code",
        "colab": {}
      },
      "source": [
        "%%R\n",
        "###### Eigen centraltity\n",
        "\n",
        "##Directed\n",
        "nw.union.eigen_centrality <- sort.int(igraph::eigen_centrality(network,scale=FALSE,directed=TRUE)$vector,decreasing=TRUE,index.return=TRUE)\n"
      ],
      "execution_count": null,
      "outputs": []
    },
    {
      "cell_type": "code",
      "metadata": {
        "id": "IFAJI1NGD6nB",
        "colab_type": "code",
        "colab": {}
      },
      "source": [
        "%%R\n",
        "\n",
        "nw.union.eigen_centrality$x[1:10]"
      ],
      "execution_count": null,
      "outputs": []
    },
    {
      "cell_type": "code",
      "metadata": {
        "id": "YiWrLkVGqBDX",
        "colab_type": "code",
        "colab": {}
      },
      "source": [
        "%%R\n",
        "\n",
        "#Otras medidas\n",
        "\n",
        "diameter(network, directed = TRUE)"
      ],
      "execution_count": null,
      "outputs": []
    },
    {
      "cell_type": "code",
      "metadata": {
        "id": "5A4y6FeZxw4K",
        "colab_type": "code",
        "colab": {}
      },
      "source": [
        "%%R\n",
        "\n",
        "farthest_vertices(network,directed=TRUE)"
      ],
      "execution_count": null,
      "outputs": []
    },
    {
      "cell_type": "code",
      "metadata": {
        "id": "CAO0JoEQ0LjE",
        "colab_type": "code",
        "colab": {}
      },
      "source": [
        "%%R\n",
        "\n",
        "get_diameter(network, directed = TRUE)"
      ],
      "execution_count": null,
      "outputs": []
    },
    {
      "cell_type": "code",
      "metadata": {
        "id": "3pKQdiOjs6S7",
        "colab_type": "code",
        "colab": {}
      },
      "source": [
        "%%R\n",
        "\n",
        "is_connected(network,mode=\"weak\")"
      ],
      "execution_count": null,
      "outputs": []
    },
    {
      "cell_type": "code",
      "metadata": {
        "id": "q4Up4lg0idIo",
        "colab_type": "code",
        "colab": {}
      },
      "source": [
        "%%R\n",
        "\n",
        "is_connected(network,mode=\"strong\")"
      ],
      "execution_count": null,
      "outputs": []
    }
  ]
}